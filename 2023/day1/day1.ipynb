{
 "cells": [
  {
   "cell_type": "code",
   "execution_count": 19,
   "id": "db199a98-aece-47fd-83a1-5b21360cfc22",
   "metadata": {},
   "outputs": [],
   "source": [
    "def parse_input(filename): \n",
    "    array_of_calibration_values = []\n",
    "    with open(filename, \"r\") as input_file:\n",
    "        input_stream = input_file.readlines()\n",
    "        for line in input_stream:\n",
    "            array_of_calibration_values.append(line.strip())\n",
    "    return array_of_calibration_values"
   ]
  },
  {
   "cell_type": "code",
   "execution_count": 45,
   "id": "8017db7b-1328-450e-8385-80639c25cc06",
   "metadata": {},
   "outputs": [],
   "source": [
    "valid_digits = { \n",
    "    \"one\": 1, \n",
    "    \"two\": 2, \n",
    "    \"three\": 3, \n",
    "    \"four\": 4, \n",
    "    \"five\": 5, \n",
    "    \"six\": 6, \n",
    "    \"seven\": 7, \n",
    "    \"eight\": 8, \n",
    "    \"nine\": 9 \n",
    "}\n",
    "\n",
    "def match_number(input):\n",
    "    for digit_value in list(valid_digits.keys()):\n",
    "        if (input.find(digit_value) != -1):\n",
    "            return str(valid_digits[digit_value])\n",
    "    return 0\n",
    "    \n",
    "def find_first_digit(input_string, is_reversed=False):\n",
    "    string_collector = \"\"\n",
    "    for character in input_string:\n",
    "        if(character.isdigit()):\n",
    "            return character\n",
    "        if(is_reversed == True):\n",
    "            string_collector = character + string_collector\n",
    "        else:\n",
    "            string_collector += character\n",
    "        if(match_number(string_collector) != 0):\n",
    "            return match_number(string_collector)"
   ]
  },
  {
   "cell_type": "code",
   "execution_count": 46,
   "id": "0c398ef0-1552-4d67-9be2-f00d1087945e",
   "metadata": {},
   "outputs": [
    {
     "data": {
      "text/plain": [
       "91"
      ]
     },
     "execution_count": 46,
     "metadata": {},
     "output_type": "execute_result"
    }
   ],
   "source": [
    "def parse_encoded_digits(input_string):\n",
    "    first_digit = find_first_digit(input_string)\n",
    "    last_digit = find_first_digit(input_string[::-1], True)\n",
    "    return int(first_digit+last_digit)\n",
    "\n",
    "parse_encoded_digits(\"bcmqn9onecnrzhsrsgzggzhtskjeightbz6khfhccktwonenrj\")"
   ]
  },
  {
   "cell_type": "code",
   "execution_count": 47,
   "id": "8557097e-d23e-402d-b9f7-9a681c4e622b",
   "metadata": {},
   "outputs": [
    {
     "name": "stdout",
     "output_type": "stream",
     "text": [
      "54885\n"
     ]
    }
   ],
   "source": [
    "sum_of_values = 0\n",
    "for input in array_of_calibration_values:\n",
    "    value = parse_encoded_digits(input)\n",
    "    sum_of_values += value\n",
    "\n",
    "print(sum_of_values)"
   ]
  },
  {
   "cell_type": "code",
   "execution_count": null,
   "id": "7a4c8c87-7dd7-4068-a39b-5a5c46cefd71",
   "metadata": {},
   "outputs": [],
   "source": [
    "\n",
    "    \n",
    "    \n",
    "    "
   ]
  }
 ],
 "metadata": {
  "kernelspec": {
   "display_name": "Python 3 (ipykernel)",
   "language": "python",
   "name": "python3"
  },
  "language_info": {
   "codemirror_mode": {
    "name": "ipython",
    "version": 3
   },
   "file_extension": ".py",
   "mimetype": "text/x-python",
   "name": "python",
   "nbconvert_exporter": "python",
   "pygments_lexer": "ipython3",
   "version": "3.9.6"
  }
 },
 "nbformat": 4,
 "nbformat_minor": 5
}
